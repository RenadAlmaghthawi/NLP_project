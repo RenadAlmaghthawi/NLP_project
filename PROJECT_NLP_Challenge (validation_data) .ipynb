{
  "cells": [
    {
      "cell_type": "markdown",
      "metadata": {
        "id": "8ler1Na-mAd5"
      },
      "source": [
        "# Testing the Validation Data Using the Trained Model and TF-IDF Vectorizer\n"
      ]
    },
    {
      "cell_type": "code",
      "execution_count": 1,
      "metadata": {},
      "outputs": [
        {
          "name": "stderr",
          "output_type": "stream",
          "text": [
            "[nltk_data] Downloading package wordnet to\n",
            "[nltk_data]     C:\\Users\\renad\\AppData\\Roaming\\nltk_data...\n",
            "[nltk_data]   Package wordnet is already up-to-date!\n",
            "[nltk_data] Downloading package stopwords to\n",
            "[nltk_data]     C:\\Users\\renad\\AppData\\Roaming\\nltk_data...\n",
            "[nltk_data]   Package stopwords is already up-to-date!\n"
          ]
        }
      ],
      "source": [
        "import re\n",
        "import nltk\n",
        "from nltk.stem import WordNetLemmatizer\n",
        "from nltk.corpus import stopwords\n",
        "\n",
        "nltk.download('wordnet')\n",
        "nltk.download('stopwords')\n",
        "\n",
        "stop_words = set(stopwords.words('english'))\n",
        "\n",
        "def custom_preprocessor(text):\n",
        "    \"\"\"Preprocess text by removing numbers, punctuation, and stopwords, then apply lemmatization.\"\"\"\n",
        "    text = re.sub(r'\\d+', '', text)  # Remove numbers\n",
        "    text = re.sub(r'[^\\w\\s]', '', text.lower())  # Remove punctuation & convert to lowercase\n",
        "\n",
        "    tokens = text.split()\n",
        "    lemmatizer = WordNetLemmatizer()\n",
        "    lemmatized_tokens = [lemmatizer.lemmatize(token) for token in tokens]\n",
        "\n",
        "    return ' '.join(lemmatized_tokens)"
      ]
    },
    {
      "cell_type": "code",
      "execution_count": 3,
      "metadata": {
        "colab": {
          "base_uri": "https://localhost:8080/"
        },
        "id": "Jl6vWRtCJCDe",
        "outputId": "2311075f-9867-4fae-a553-af313fe3e383"
      },
      "outputs": [
        {
          "name": "stdout",
          "output_type": "stream",
          "text": [
            "✅ The file has been successfully updated!\n"
          ]
        }
      ],
      "source": [
        "import pandas as pd\n",
        "import joblib\n",
        "\n",
        "# Load the original validation data\n",
        "validation_data = pd.read_csv(\"dataset/validation_data.csv\")\n",
        "\n",
        "# Load the trained model and TF-IDF Vectorizer\n",
        "model = joblib.load('fake_news_classifier_svc.pkl')\n",
        "vectorizer = joblib.load('tfidf_vectorizer.pkl')\n",
        "\n",
        "# Transform text into numerical features using TF-IDF\n",
        "validation_texts = validation_data['title'] + \" \" + validation_data['text'] \n",
        "validation_features = vectorizer.transform(validation_texts)\n",
        "\n",
        "# Predict labels (replace 2 with either 0 or 1)\n",
        "predicted_labels = model.predict(validation_features)\n",
        "\n",
        "# Update the label column with the new predictions\n",
        "validation_data['label'] = predicted_labels\n",
        "\n",
        "# Save the updated file while preserving the original format\n",
        "validation_data.to_csv(\"dataset/validation_data_predicted_.csv\", index=False)\n",
        "\n",
        "print(\"✅ The file has been successfully updated!\")\n"
      ]
    },
    {
      "cell_type": "code",
      "execution_count": 4,
      "metadata": {},
      "outputs": [
        {
          "data": {
            "text/html": [
              "<div>\n",
              "<style scoped>\n",
              "    .dataframe tbody tr th:only-of-type {\n",
              "        vertical-align: middle;\n",
              "    }\n",
              "\n",
              "    .dataframe tbody tr th {\n",
              "        vertical-align: top;\n",
              "    }\n",
              "\n",
              "    .dataframe thead th {\n",
              "        text-align: right;\n",
              "    }\n",
              "</style>\n",
              "<table border=\"1\" class=\"dataframe\">\n",
              "  <thead>\n",
              "    <tr style=\"text-align: right;\">\n",
              "      <th></th>\n",
              "      <th>label</th>\n",
              "      <th>title</th>\n",
              "      <th>text</th>\n",
              "      <th>subject</th>\n",
              "      <th>date</th>\n",
              "    </tr>\n",
              "  </thead>\n",
              "  <tbody>\n",
              "    <tr>\n",
              "      <th>0</th>\n",
              "      <td>1</td>\n",
              "      <td>UK's May 'receiving regular updates' on London...</td>\n",
              "      <td>LONDON (Reuters) - British Prime Minister Ther...</td>\n",
              "      <td>worldnews</td>\n",
              "      <td>September 15, 2017</td>\n",
              "    </tr>\n",
              "    <tr>\n",
              "      <th>1</th>\n",
              "      <td>1</td>\n",
              "      <td>UK transport police leading investigation of L...</td>\n",
              "      <td>LONDON (Reuters) - British counter-terrorism p...</td>\n",
              "      <td>worldnews</td>\n",
              "      <td>September 15, 2017</td>\n",
              "    </tr>\n",
              "    <tr>\n",
              "      <th>2</th>\n",
              "      <td>1</td>\n",
              "      <td>Pacific nations crack down on North Korean shi...</td>\n",
              "      <td>WELLINGTON (Reuters) - South Pacific island na...</td>\n",
              "      <td>worldnews</td>\n",
              "      <td>September 15, 2017</td>\n",
              "    </tr>\n",
              "    <tr>\n",
              "      <th>3</th>\n",
              "      <td>1</td>\n",
              "      <td>Three suspected al Qaeda militants killed in Y...</td>\n",
              "      <td>ADEN, Yemen (Reuters) - Three suspected al Qae...</td>\n",
              "      <td>worldnews</td>\n",
              "      <td>September 15, 2017</td>\n",
              "    </tr>\n",
              "    <tr>\n",
              "      <th>4</th>\n",
              "      <td>1</td>\n",
              "      <td>Chinese academics prod Beijing to consider Nor...</td>\n",
              "      <td>BEIJING (Reuters) - Chinese academics are publ...</td>\n",
              "      <td>worldnews</td>\n",
              "      <td>September 15, 2017</td>\n",
              "    </tr>\n",
              "    <tr>\n",
              "      <th>...</th>\n",
              "      <td>...</td>\n",
              "      <td>...</td>\n",
              "      <td>...</td>\n",
              "      <td>...</td>\n",
              "      <td>...</td>\n",
              "    </tr>\n",
              "    <tr>\n",
              "      <th>4951</th>\n",
              "      <td>0</td>\n",
              "      <td>McPain: John McCain Furious That Iran Treated ...</td>\n",
              "      <td>21st Century Wire says As 21WIRE reported earl...</td>\n",
              "      <td>Middle-east</td>\n",
              "      <td>January 16, 2016</td>\n",
              "    </tr>\n",
              "    <tr>\n",
              "      <th>4952</th>\n",
              "      <td>0</td>\n",
              "      <td>JUSTICE? Yahoo Settles E-mail Privacy Class-ac...</td>\n",
              "      <td>21st Century Wire says It s a familiar theme. ...</td>\n",
              "      <td>Middle-east</td>\n",
              "      <td>January 16, 2016</td>\n",
              "    </tr>\n",
              "    <tr>\n",
              "      <th>4953</th>\n",
              "      <td>0</td>\n",
              "      <td>Sunnistan: US and Allied ‘Safe Zone’ Plan to T...</td>\n",
              "      <td>Patrick Henningsen  21st Century WireRemember ...</td>\n",
              "      <td>Middle-east</td>\n",
              "      <td>January 15, 2016</td>\n",
              "    </tr>\n",
              "    <tr>\n",
              "      <th>4954</th>\n",
              "      <td>0</td>\n",
              "      <td>How to Blow $700 Million: Al Jazeera America F...</td>\n",
              "      <td>21st Century Wire says Al Jazeera America will...</td>\n",
              "      <td>Middle-east</td>\n",
              "      <td>January 14, 2016</td>\n",
              "    </tr>\n",
              "    <tr>\n",
              "      <th>4955</th>\n",
              "      <td>0</td>\n",
              "      <td>10 U.S. Navy Sailors Held by Iranian Military ...</td>\n",
              "      <td>21st Century Wire says As 21WIRE predicted in ...</td>\n",
              "      <td>Middle-east</td>\n",
              "      <td>January 12, 2016</td>\n",
              "    </tr>\n",
              "  </tbody>\n",
              "</table>\n",
              "<p>4956 rows × 5 columns</p>\n",
              "</div>"
            ],
            "text/plain": [
              "      label                                              title  \\\n",
              "0         1  UK's May 'receiving regular updates' on London...   \n",
              "1         1  UK transport police leading investigation of L...   \n",
              "2         1  Pacific nations crack down on North Korean shi...   \n",
              "3         1  Three suspected al Qaeda militants killed in Y...   \n",
              "4         1  Chinese academics prod Beijing to consider Nor...   \n",
              "...     ...                                                ...   \n",
              "4951      0  McPain: John McCain Furious That Iran Treated ...   \n",
              "4952      0  JUSTICE? Yahoo Settles E-mail Privacy Class-ac...   \n",
              "4953      0  Sunnistan: US and Allied ‘Safe Zone’ Plan to T...   \n",
              "4954      0  How to Blow $700 Million: Al Jazeera America F...   \n",
              "4955      0  10 U.S. Navy Sailors Held by Iranian Military ...   \n",
              "\n",
              "                                                   text      subject  \\\n",
              "0     LONDON (Reuters) - British Prime Minister Ther...    worldnews   \n",
              "1     LONDON (Reuters) - British counter-terrorism p...    worldnews   \n",
              "2     WELLINGTON (Reuters) - South Pacific island na...    worldnews   \n",
              "3     ADEN, Yemen (Reuters) - Three suspected al Qae...    worldnews   \n",
              "4     BEIJING (Reuters) - Chinese academics are publ...    worldnews   \n",
              "...                                                 ...          ...   \n",
              "4951  21st Century Wire says As 21WIRE reported earl...  Middle-east   \n",
              "4952  21st Century Wire says It s a familiar theme. ...  Middle-east   \n",
              "4953  Patrick Henningsen  21st Century WireRemember ...  Middle-east   \n",
              "4954  21st Century Wire says Al Jazeera America will...  Middle-east   \n",
              "4955  21st Century Wire says As 21WIRE predicted in ...  Middle-east   \n",
              "\n",
              "                     date  \n",
              "0     September 15, 2017   \n",
              "1     September 15, 2017   \n",
              "2     September 15, 2017   \n",
              "3     September 15, 2017   \n",
              "4     September 15, 2017   \n",
              "...                   ...  \n",
              "4951     January 16, 2016  \n",
              "4952     January 16, 2016  \n",
              "4953     January 15, 2016  \n",
              "4954     January 14, 2016  \n",
              "4955     January 12, 2016  \n",
              "\n",
              "[4956 rows x 5 columns]"
            ]
          },
          "execution_count": 4,
          "metadata": {},
          "output_type": "execute_result"
        }
      ],
      "source": [
        "validation_data"
      ]
    },
    {
      "cell_type": "code",
      "execution_count": null,
      "metadata": {},
      "outputs": [],
      "source": []
    }
  ],
  "metadata": {
    "colab": {
      "provenance": []
    },
    "kernelspec": {
      "display_name": "Python 3",
      "name": "python3"
    },
    "language_info": {
      "codemirror_mode": {
        "name": "ipython",
        "version": 3
      },
      "file_extension": ".py",
      "mimetype": "text/x-python",
      "name": "python",
      "nbconvert_exporter": "python",
      "pygments_lexer": "ipython3",
      "version": "3.11.4"
    }
  },
  "nbformat": 4,
  "nbformat_minor": 0
}
